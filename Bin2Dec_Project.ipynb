{
  "nbformat": 4,
  "nbformat_minor": 0,
  "metadata": {
    "colab": {
      "name": "Bin2Dec Project",
      "provenance": [],
      "authorship_tag": "ABX9TyM5r28F7yTrj+knUdMAhz6h",
      "include_colab_link": true
    },
    "kernelspec": {
      "name": "python3",
      "display_name": "Python 3"
    }
  },
  "cells": [
    {
      "cell_type": "markdown",
      "metadata": {
        "id": "view-in-github",
        "colab_type": "text"
      },
      "source": [
        "<a href=\"https://colab.research.google.com/github/Shades0000/V/blob/main/Bin2Dec_Project.ipynb\" target=\"_parent\"><img src=\"https://colab.research.google.com/assets/colab-badge.svg\" alt=\"Open In Colab\"/></a>"
      ]
    },
    {
      "cell_type": "code",
      "metadata": {
        "id": "MedgG_32HNeS"
      },
      "source": [
        "def BinaryCon():\n",
        "  is_ok=[]\n",
        "  num= str(input())\n",
        "\n",
        "  if len(num) < 9:\n",
        "\n",
        "    for i in num:\n",
        "\n",
        "      if i == '0' or i == '1':\n",
        "        is_ok.append(True)\n",
        "\n",
        "      else:\n",
        "        is_ok.append(False)\n",
        "\n",
        "    if False not in is_ok:\n",
        "      print(int(num, 2))\n",
        "\n",
        "    else:\n",
        "      print(\"Enter only 0 or 1\")\n",
        "\n",
        "  else:\n",
        "    print('Enter max eight digits')\n",
        "\n",
        "\n"
      ],
      "execution_count": null,
      "outputs": []
    },
    {
      "cell_type": "code",
      "metadata": {
        "colab": {
          "base_uri": "https://localhost:8080/"
        },
        "id": "BPJhdY1QHYAm",
        "outputId": "04d960e8-c3d7-4575-f8e4-edd6186681ea"
      },
      "source": [
        "BinaryCon()"
      ],
      "execution_count": null,
      "outputs": [
        {
          "output_type": "stream",
          "text": [
            "0100110\n",
            "38\n"
          ],
          "name": "stdout"
        }
      ]
    },
    {
      "cell_type": "code",
      "metadata": {
        "id": "RVZAaqywOtFO"
      },
      "source": [
        ""
      ],
      "execution_count": null,
      "outputs": []
    }
  ]
}